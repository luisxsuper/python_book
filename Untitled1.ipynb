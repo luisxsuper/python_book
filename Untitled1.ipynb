{
 "cells": [
  {
   "cell_type": "code",
   "execution_count": 1,
   "metadata": {},
   "outputs": [
    {
     "name": "stdout",
     "output_type": "stream",
     "text": [
      "2\n"
     ]
    },
    {
     "data": {
      "text/plain": [
       "'2'"
      ]
     },
     "execution_count": 1,
     "metadata": {},
     "output_type": "execute_result"
    }
   ],
   "source": [
    "input()"
   ]
  },
  {
   "cell_type": "code",
   "execution_count": 11,
   "metadata": {},
   "outputs": [
    {
     "name": "stdout",
     "output_type": "stream",
     "text": [
      "Ingrese el tamaño de la matriz (filas,columnas), separando por con una coma (,) los valores: 2,1\n"
     ]
    },
    {
     "ename": "ValueError",
     "evalue": "too many values to unpack (expected 2)",
     "output_type": "error",
     "traceback": [
      "\u001b[1;31m---------------------------------------------------------------------------\u001b[0m",
      "\u001b[1;31mValueError\u001b[0m                                Traceback (most recent call last)",
      "\u001b[1;32m<ipython-input-11-c719bfdec851>\u001b[0m in \u001b[0;36m<module>\u001b[1;34m()\u001b[0m\n\u001b[0;32m     23\u001b[0m         \u001b[1;32mreturn\u001b[0m \u001b[0mlista\u001b[0m\u001b[1;33m\u001b[0m\u001b[0m\n\u001b[0;32m     24\u001b[0m \u001b[1;33m\u001b[0m\u001b[0m\n\u001b[1;32m---> 25\u001b[1;33m \u001b[0mfilas\u001b[0m\u001b[1;33m,\u001b[0m\u001b[0mcolumnas\u001b[0m\u001b[1;33m=\u001b[0m\u001b[0minput\u001b[0m\u001b[1;33m(\u001b[0m\u001b[1;34m\"Ingrese el tamaño de la matriz (filas,columnas), separando por con una coma (,) los valores: \"\u001b[0m\u001b[1;33m)\u001b[0m   \u001b[1;31m#pedimos el tamaño de la matriz\u001b[0m\u001b[1;33m\u001b[0m\u001b[0m\n\u001b[0m\u001b[0;32m     26\u001b[0m \u001b[0mgenerando_m\u001b[0m\u001b[1;33m=\u001b[0m\u001b[0mmatriz\u001b[0m\u001b[1;33m(\u001b[0m\u001b[0mfilas\u001b[0m\u001b[1;33m,\u001b[0m\u001b[0mcolumnas\u001b[0m\u001b[1;33m)\u001b[0m      \u001b[1;31m#Generamos la matriz\u001b[0m\u001b[1;33m\u001b[0m\u001b[0m\n\u001b[0;32m     27\u001b[0m \u001b[1;33m\u001b[0m\u001b[0m\n",
      "\u001b[1;31mValueError\u001b[0m: too many values to unpack (expected 2)"
     ]
    }
   ],
   "source": [
    "def camino_corto(f1,c1,f2,c2,lista):    #Esta funcion generará el camino más corto, pero para ello pide las cordenadas del punto inicial, el punto final y la matriz donde de hará.\n",
    "        if (f1==f2):   \n",
    "                if (c1<c2):\n",
    "                        lista[f1][c1]=\"+\"\n",
    "                        camino_corto(f1,c1+1,f2,c2,lista)\n",
    "                else :\n",
    "                        lista[f1][c1]=\"+\"\n",
    "                        print (\"Ruta encontrada\")\n",
    "        elif (f1<f2):  \n",
    "                lista[f1][c1]=\"+\"\n",
    "                camino_corto(f1+1,c1,f2,c2,lista)\n",
    "        else:\n",
    "                print (\"ERROR\")\n",
    "        return lista\n",
    " \n",
    "def matriz(M,N):        #Aquí creamos la matriz de un tamaño MxN designado por el usuario\n",
    "        lista=[]\n",
    "        for x in range(M):\n",
    "                columnas=[]\n",
    "                for y in range(N):\n",
    "                        columnas.append(\"x\")\n",
    "                lista.append(columnas)\n",
    "        return lista\n",
    " \n",
    "filas,columnas=input(\"Ingrese el tamaño de la matriz (filas,columnas), separando por con una coma (,) los valores: \")   #pedimos el tamaño de la matriz\n",
    "generando_m=matriz(filas,columnas)      #Generamos la matriz\n",
    " \n",
    "print (\"Generando una matriz de {0}x{1} ...\").format(filas,columnas)\n",
    "for x in range(filas):  #Por estetica, imprimimos las matrices por filas.\n",
    "        print (generando_m[x])\n",
    "        \n",
    "print (\"\")\n",
    "f_final,c_final=input(\"Ingrese las coordenadas del punto final P, separando por una coma (,), los valores: \")           #Pedimos las coordenadas del punto final\n",
    "solucion=camino_corto(0,0,f_final-1,c_final-1,generando_m)      #Una vez obtenidas las coordenadas y generada la matriz, le pasamos los datos a nuestra función que nos dará la ruta más corta\n",
    "print (\"\")\n",
    "print (\"Generando una Ruta desde el punto O(0,0) hasta el punto P({0},{1})\").format(f_final,c_final)\n",
    " \n",
    "for x in range(filas):  #Por estetica imprimimos el resultado de la ruta, por filas.\n",
    "        print (solucion[x])"
   ]
  },
  {
   "cell_type": "code",
   "execution_count": 4,
   "metadata": {},
   "outputs": [
    {
     "ename": "SyntaxError",
     "evalue": "Missing parentheses in call to 'print'. Did you mean print(2+2)? (<ipython-input-4-39dfcd7dc505>, line 1)",
     "output_type": "error",
     "traceback": [
      "\u001b[1;36m  File \u001b[1;32m\"<ipython-input-4-39dfcd7dc505>\"\u001b[1;36m, line \u001b[1;32m1\u001b[0m\n\u001b[1;33m    print 2+2\u001b[0m\n\u001b[1;37m          ^\u001b[0m\n\u001b[1;31mSyntaxError\u001b[0m\u001b[1;31m:\u001b[0m Missing parentheses in call to 'print'. Did you mean print(2+2)?\n"
     ]
    }
   ],
   "source": [
    "\n"
   ]
  }
 ],
 "metadata": {
  "kernelspec": {
   "display_name": "Python 3",
   "language": "python",
   "name": "python3"
  },
  "language_info": {
   "codemirror_mode": {
    "name": "ipython",
    "version": 3
   },
   "file_extension": ".py",
   "mimetype": "text/x-python",
   "name": "python",
   "nbconvert_exporter": "python",
   "pygments_lexer": "ipython3",
   "version": "3.6.4"
  }
 },
 "nbformat": 4,
 "nbformat_minor": 2
}
